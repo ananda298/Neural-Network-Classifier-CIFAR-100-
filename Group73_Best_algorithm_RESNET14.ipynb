{
 "cells": [
  {
   "cell_type": "code",
   "execution_count": 1,
   "metadata": {},
   "outputs": [],
   "source": [
    "import matplotlib.pyplot as plt\n",
    "%matplotlib inline\n",
    "from sklearn.metrics import confusion_matrix, classification_report, log_loss, accuracy_score\n",
    "from sklearn.model_selection import train_test_split\n",
    "import numpy as np\n",
    "import pandas as pd\n",
    "import tensorflow as tf\n",
    "import keras\n",
    "from keras.utils.np_utils import to_categorical\n",
    "from tensorflow.keras import Sequential, initializers\n",
    "from tensorflow.keras.layers import Conv2D, MaxPooling2D, Dense, Flatten, LSTM, BatchNormalization, Dropout\n",
    "from tensorflow.keras.preprocessing.image import ImageDataGenerator\n",
    "from tensorflow.keras.optimizers import Adam\n",
    "from tensorflow.keras.callbacks import ReduceLROnPlateau\n",
    "import seaborn as sn"
   ]
  },
  {
   "cell_type": "code",
   "execution_count": null,
   "metadata": {},
   "outputs": [],
   "source": [
    "# from google.colab import drive (uncomment this if run from colab)\n",
    "# drive.mount('/content/drive')"
   ]
  },
  {
   "cell_type": "code",
   "execution_count": 2,
   "metadata": {},
   "outputs": [],
   "source": [
    "# Change the path to the folder of the dataset and the h5 file\n",
    "path = \"./cifar-100-python/\""
   ]
  },
  {
   "cell_type": "markdown",
   "metadata": {},
   "source": [
    "# Pre-Processing"
   ]
  },
  {
   "cell_type": "code",
   "execution_count": 3,
   "metadata": {},
   "outputs": [],
   "source": [
    "def unpickle(file):\n",
    "    import pickle\n",
    "    with open(file, 'rb') as fo:\n",
    "        dict = pickle.load(fo, encoding='bytes')\n",
    "    return dict"
   ]
  },
  {
   "cell_type": "code",
   "execution_count": 4,
   "metadata": {},
   "outputs": [],
   "source": [
    "# unloading datasets to train, test and meta (labels)\n",
    "meta = unpickle(path + 'meta')\n",
    "train = unpickle(path + 'train')\n",
    "test = unpickle(path + 'test')"
   ]
  },
  {
   "cell_type": "code",
   "execution_count": 5,
   "metadata": {},
   "outputs": [],
   "source": [
    "# gathering the list of labels\n",
    "labels = list(meta[b'fine_label_names'])"
   ]
  },
  {
   "cell_type": "markdown",
   "metadata": {},
   "source": [
    "## Splitting the dataset to train, test and validation for training"
   ]
  },
  {
   "cell_type": "code",
   "execution_count": 6,
   "metadata": {},
   "outputs": [],
   "source": [
    "y_train = to_categorical(train[b'fine_labels'], len(labels)) # one hot encoding \n",
    "y_test = to_categorical(test[b'fine_labels'], len(labels))\n",
    "X_train = train[b'data'].reshape(50000, 3, 32, 32).transpose(0,2,3,1)\n",
    "X_test = test[b'data'].reshape(10000, 3, 32, 32).transpose(0,2,3,1)"
   ]
  },
  {
   "cell_type": "code",
   "execution_count": 7,
   "metadata": {},
   "outputs": [],
   "source": [
    "X_train, X_val, y_train, y_val = train_test_split(X_train, y_train, train_size = 0.8, random_state = 1)"
   ]
  },
  {
   "cell_type": "markdown",
   "metadata": {},
   "source": [
    "## Data augmentation"
   ]
  },
  {
   "cell_type": "code",
   "execution_count": 8,
   "metadata": {},
   "outputs": [],
   "source": [
    "train_datagen = ImageDataGenerator(horizontal_flip=True)\n",
    "\n",
    "test_datagen = ImageDataGenerator(horizontal_flip=True)\n",
    "train_generator =  train_datagen.flow(X_train, y_train, batch_size=32, shuffle=True)\n",
    "val_generator = test_datagen.flow(X_val, y_val, batch_size=32, shuffle=True)\n",
    "test_generator = test_datagen.flow(X_test, y_test, batch_size=32, shuffle=True)"
   ]
  },
  {
   "cell_type": "markdown",
   "metadata": {},
   "source": [
    "# RESNET-14\n",
    "### Partial blocks (identity and convolutional block) From: https://www.analyticsvidhya.com/blog/2021/08/how-to-code-your-resnet-from-scratch-in-tensorflow/"
   ]
  },
  {
   "cell_type": "markdown",
   "metadata": {},
   "source": [
    "## Defining the model"
   ]
  },
  {
   "cell_type": "code",
   "execution_count": 11,
   "metadata": {},
   "outputs": [],
   "source": [
    "def identity_block(x, filter):\n",
    "\n",
    "    x_residual = x\n",
    "\n",
    "    x = tf.keras.layers.Conv2D(filter, (3, 3), padding = 'same')(x)\n",
    "    x = tf.keras.layers.BatchNormalization()(x)\n",
    "    x = tf.keras.layers.Activation('relu')(x)\n",
    "    x = tf.keras.layers.Conv2D(filter, (3, 3), padding = 'same')(x)\n",
    "    x = tf.keras.layers.BatchNormalization()(x)\n",
    "\n",
    "    x = tf.keras.layers.Add()([x, x_residual])     \n",
    "    x = tf.keras.layers.Activation('relu')(x)\n",
    "    return x"
   ]
  },
  {
   "cell_type": "code",
   "execution_count": 12,
   "metadata": {},
   "outputs": [],
   "source": [
    "def convolutional_block(x, filter):\n",
    "\n",
    "    x_residual = x\n",
    "\n",
    "    x = tf.keras.layers.Conv2D(filter, (3, 3), padding = 'same', strides = (2, 2))(x)\n",
    "    x = tf.keras.layers.BatchNormalization()(x)\n",
    "    x = tf.keras.layers.Activation('relu')(x)\n",
    "    x = tf.keras.layers.Conv2D(filter, (3, 3), padding = 'same')(x)\n",
    "    x = tf.keras.layers.BatchNormalization()(x)\n",
    "\n",
    "    x_residual = tf.keras.layers.Conv2D(filter, (1, 1), strides = (2, 2))(x_residual)\n",
    "\n",
    "    x = tf.keras.layers.Add()([x, x_residual])     \n",
    "    x = tf.keras.layers.Activation('relu')(x)\n",
    "    return x"
   ]
  },
  {
   "cell_type": "code",
   "execution_count": 13,
   "metadata": {},
   "outputs": [],
   "source": [
    "def ResNet14(shape = (32, 32, 3), classes = 100):\n",
    "\n",
    "    #input layer\n",
    "    x_input = tf.keras.layers.Input(shape)\n",
    "    x = tf.keras.layers.ZeroPadding2D((3, 3))(x_input)\n",
    "\n",
    "    #Conv block 1\n",
    "    x = tf.keras.layers.Conv2D(64, kernel_size=(3, 3), strides=1, padding='same')(x)\n",
    "    x = tf.keras.layers.BatchNormalization()(x)\n",
    "    x = tf.keras.layers.Activation('relu')(x)\n",
    "    x = tf.keras.layers.MaxPooling2D(pool_size=3, strides=1, padding='same')(x)\n",
    "\n",
    "    # Hidden layers\n",
    "    # Conv block 2\n",
    "    x = identity_block(x, 64)\n",
    "    x = identity_block(x, 64)\n",
    "\n",
    "\n",
    "    # Conv block 3   \n",
    "    x = convolutional_block(x, 128)\n",
    "    x = identity_block(x, 128)\n",
    "\n",
    "    # Conv block 4\n",
    "    x = convolutional_block(x, 512)\n",
    "    x = identity_block(x, 512)\n",
    "\n",
    "    x = tf.keras.layers.Dropout(0.2)(x)\n",
    "    \n",
    "    #Dense Layer\n",
    "    x = tf.keras.layers.AveragePooling2D((2,2), padding = 'same')(x)\n",
    "    x = tf.keras.layers.Flatten()(x)\n",
    "    x = tf.keras.layers.Dense(512, activation = 'relu')(x)\n",
    "    x = tf.keras.layers.Dense(classes, activation = 'softmax')(x)\n",
    "    model = tf.keras.models.Model(inputs = x_input, outputs = x)\n",
    "    return model\n"
   ]
  },
  {
   "cell_type": "code",
   "execution_count": 14,
   "metadata": {},
   "outputs": [],
   "source": [
    "model = ResNet14()"
   ]
  },
  {
   "cell_type": "code",
   "execution_count": 15,
   "metadata": {},
   "outputs": [],
   "source": [
    "model.compile(loss='categorical_crossentropy',\n",
    "              optimizer='adam',\n",
    "              metrics=['accuracy'])"
   ]
  },
  {
   "cell_type": "markdown",
   "metadata": {},
   "source": [
    "## Fitting the model to training"
   ]
  },
  {
   "cell_type": "code",
   "execution_count": 16,
   "metadata": {},
   "outputs": [],
   "source": [
    "reduce_lr = ReduceLROnPlateau(monitor='val_loss', factor=0.1,\n",
    "                              patience=5, min_lr=0.00001)"
   ]
  },
  {
   "cell_type": "code",
   "execution_count": 17,
   "metadata": {},
   "outputs": [
    {
     "name": "stdout",
     "output_type": "stream",
     "text": [
      "Epoch 1/100\n",
      "1250/1250 [==============================] - 56s 28ms/step - loss: 4.1330 - accuracy: 0.0860 - val_loss: 3.6971 - val_accuracy: 0.1234\n",
      "Epoch 2/100\n",
      "1250/1250 [==============================] - 33s 27ms/step - loss: 3.1998 - accuracy: 0.2181 - val_loss: 3.0095 - val_accuracy: 0.2544\n",
      "Epoch 3/100\n",
      "1250/1250 [==============================] - 32s 25ms/step - loss: 2.7488 - accuracy: 0.3026 - val_loss: 3.1033 - val_accuracy: 0.2596\n",
      "Epoch 4/100\n",
      "1250/1250 [==============================] - 30s 24ms/step - loss: 2.4190 - accuracy: 0.3720 - val_loss: 2.5840 - val_accuracy: 0.3426\n",
      "Epoch 5/100\n",
      "1250/1250 [==============================] - 30s 24ms/step - loss: 2.1581 - accuracy: 0.4263 - val_loss: 2.7224 - val_accuracy: 0.3451\n",
      "Epoch 6/100\n",
      "1250/1250 [==============================] - 30s 24ms/step - loss: 1.9378 - accuracy: 0.4719 - val_loss: 2.2796 - val_accuracy: 0.4069\n",
      "Epoch 7/100\n",
      "1250/1250 [==============================] - 30s 24ms/step - loss: 1.7534 - accuracy: 0.5167 - val_loss: 2.3849 - val_accuracy: 0.3928\n",
      "Epoch 8/100\n",
      "1250/1250 [==============================] - 31s 25ms/step - loss: 1.5763 - accuracy: 0.5636 - val_loss: 2.4740 - val_accuracy: 0.3920\n",
      "Epoch 9/100\n",
      "1250/1250 [==============================] - 31s 25ms/step - loss: 1.4171 - accuracy: 0.5991 - val_loss: 2.2988 - val_accuracy: 0.4246\n",
      "Epoch 10/100\n",
      "1250/1250 [==============================] - 31s 25ms/step - loss: 1.2566 - accuracy: 0.6387 - val_loss: 2.6540 - val_accuracy: 0.4071\n",
      "Epoch 11/100\n",
      "1250/1250 [==============================] - 32s 26ms/step - loss: 1.1118 - accuracy: 0.6752 - val_loss: 2.1791 - val_accuracy: 0.4609\n",
      "Epoch 12/100\n",
      "1250/1250 [==============================] - 31s 25ms/step - loss: 0.9708 - accuracy: 0.7117 - val_loss: 2.1407 - val_accuracy: 0.4831\n",
      "Epoch 13/100\n",
      "1250/1250 [==============================] - 31s 25ms/step - loss: 0.8422 - accuracy: 0.7496 - val_loss: 2.3779 - val_accuracy: 0.4602\n",
      "Epoch 14/100\n",
      "1250/1250 [==============================] - 31s 25ms/step - loss: 0.7303 - accuracy: 0.7789 - val_loss: 2.3737 - val_accuracy: 0.4761\n",
      "Epoch 15/100\n",
      "1250/1250 [==============================] - 31s 25ms/step - loss: 0.6259 - accuracy: 0.8074 - val_loss: 2.5535 - val_accuracy: 0.4740\n",
      "Epoch 16/100\n",
      "1250/1250 [==============================] - 31s 25ms/step - loss: 0.5248 - accuracy: 0.8404 - val_loss: 2.6480 - val_accuracy: 0.4630\n",
      "Epoch 17/100\n",
      "1250/1250 [==============================] - 31s 25ms/step - loss: 0.4649 - accuracy: 0.8559 - val_loss: 2.3986 - val_accuracy: 0.5071\n",
      "Epoch 18/100\n",
      "1250/1250 [==============================] - 31s 25ms/step - loss: 0.2121 - accuracy: 0.9359 - val_loss: 2.4564 - val_accuracy: 0.5441\n",
      "Epoch 19/100\n",
      "1250/1250 [==============================] - 31s 25ms/step - loss: 0.1472 - accuracy: 0.9565 - val_loss: 2.5436 - val_accuracy: 0.5414\n",
      "Epoch 20/100\n",
      "1250/1250 [==============================] - 31s 25ms/step - loss: 0.1160 - accuracy: 0.9658 - val_loss: 2.6700 - val_accuracy: 0.5497\n",
      "Epoch 21/100\n",
      "1250/1250 [==============================] - 31s 25ms/step - loss: 0.0988 - accuracy: 0.9719 - val_loss: 2.7530 - val_accuracy: 0.5458\n",
      "Epoch 22/100\n",
      "1250/1250 [==============================] - 31s 25ms/step - loss: 0.0814 - accuracy: 0.9760 - val_loss: 2.8386 - val_accuracy: 0.5516\n",
      "Epoch 23/100\n",
      "1250/1250 [==============================] - 31s 25ms/step - loss: 0.0609 - accuracy: 0.9840 - val_loss: 2.8809 - val_accuracy: 0.5524\n",
      "Epoch 24/100\n",
      "1250/1250 [==============================] - 31s 25ms/step - loss: 0.0553 - accuracy: 0.9858 - val_loss: 2.9173 - val_accuracy: 0.5512\n",
      "Epoch 25/100\n",
      "1250/1250 [==============================] - 31s 25ms/step - loss: 0.0519 - accuracy: 0.9861 - val_loss: 2.9523 - val_accuracy: 0.5523\n",
      "Epoch 26/100\n",
      "1250/1250 [==============================] - 32s 25ms/step - loss: 0.0520 - accuracy: 0.9865 - val_loss: 2.9811 - val_accuracy: 0.5511\n",
      "Epoch 27/100\n",
      "1250/1250 [==============================] - 32s 26ms/step - loss: 0.0483 - accuracy: 0.9878 - val_loss: 3.0047 - val_accuracy: 0.5524\n",
      "Epoch 28/100\n",
      "1250/1250 [==============================] - 32s 26ms/step - loss: 0.0472 - accuracy: 0.9880 - val_loss: 2.9897 - val_accuracy: 0.5528\n",
      "Epoch 29/100\n",
      "1250/1250 [==============================] - 32s 26ms/step - loss: 0.0464 - accuracy: 0.9876 - val_loss: 3.0325 - val_accuracy: 0.5553\n",
      "Epoch 30/100\n",
      "1250/1250 [==============================] - 32s 26ms/step - loss: 0.0449 - accuracy: 0.9882 - val_loss: 3.0423 - val_accuracy: 0.5513\n",
      "Epoch 31/100\n",
      "1250/1250 [==============================] - 32s 26ms/step - loss: 0.0427 - accuracy: 0.9883 - val_loss: 3.0758 - val_accuracy: 0.5541\n",
      "Epoch 32/100\n",
      "1250/1250 [==============================] - 32s 26ms/step - loss: 0.0417 - accuracy: 0.9896 - val_loss: 3.0857 - val_accuracy: 0.5537\n",
      "Epoch 33/100\n",
      "1250/1250 [==============================] - 32s 26ms/step - loss: 0.0401 - accuracy: 0.9901 - val_loss: 3.1070 - val_accuracy: 0.5557\n",
      "Epoch 34/100\n",
      "1250/1250 [==============================] - 32s 26ms/step - loss: 0.0408 - accuracy: 0.9896 - val_loss: 3.1057 - val_accuracy: 0.5575\n",
      "Epoch 35/100\n",
      "1250/1250 [==============================] - 31s 25ms/step - loss: 0.0384 - accuracy: 0.9908 - val_loss: 3.1602 - val_accuracy: 0.5525\n",
      "Epoch 36/100\n",
      "1250/1250 [==============================] - 31s 25ms/step - loss: 0.0378 - accuracy: 0.9903 - val_loss: 3.1402 - val_accuracy: 0.5534\n",
      "Epoch 37/100\n",
      "1250/1250 [==============================] - 31s 25ms/step - loss: 0.0353 - accuracy: 0.9913 - val_loss: 3.1871 - val_accuracy: 0.5528\n",
      "Epoch 38/100\n",
      "1250/1250 [==============================] - 31s 25ms/step - loss: 0.0338 - accuracy: 0.9918 - val_loss: 3.2367 - val_accuracy: 0.5539\n",
      "Epoch 39/100\n",
      "1250/1250 [==============================] - 31s 25ms/step - loss: 0.0346 - accuracy: 0.9916 - val_loss: 3.1917 - val_accuracy: 0.5550\n",
      "Epoch 40/100\n",
      "1250/1250 [==============================] - 31s 25ms/step - loss: 0.0319 - accuracy: 0.9919 - val_loss: 3.2239 - val_accuracy: 0.5531\n",
      "Epoch 41/100\n",
      "1250/1250 [==============================] - 31s 25ms/step - loss: 0.0322 - accuracy: 0.9920 - val_loss: 3.2282 - val_accuracy: 0.5550\n",
      "Epoch 42/100\n",
      "1250/1250 [==============================] - 31s 25ms/step - loss: 0.0301 - accuracy: 0.9931 - val_loss: 3.2381 - val_accuracy: 0.5529\n",
      "Epoch 43/100\n",
      "1250/1250 [==============================] - 31s 25ms/step - loss: 0.0310 - accuracy: 0.9925 - val_loss: 3.2659 - val_accuracy: 0.5516\n",
      "Epoch 44/100\n",
      "1250/1250 [==============================] - 31s 25ms/step - loss: 0.0280 - accuracy: 0.9938 - val_loss: 3.2766 - val_accuracy: 0.5548\n",
      "Epoch 45/100\n",
      "1250/1250 [==============================] - 30s 24ms/step - loss: 0.0299 - accuracy: 0.9926 - val_loss: 3.2593 - val_accuracy: 0.5522\n",
      "Epoch 46/100\n",
      "1250/1250 [==============================] - 31s 25ms/step - loss: 0.0274 - accuracy: 0.9940 - val_loss: 3.2531 - val_accuracy: 0.5587\n",
      "Epoch 47/100\n",
      "1250/1250 [==============================] - 32s 25ms/step - loss: 0.0287 - accuracy: 0.9932 - val_loss: 3.3332 - val_accuracy: 0.5519\n",
      "Epoch 48/100\n",
      "1250/1250 [==============================] - 31s 25ms/step - loss: 0.0272 - accuracy: 0.9939 - val_loss: 3.2921 - val_accuracy: 0.5557\n",
      "Epoch 49/100\n",
      "1250/1250 [==============================] - 31s 25ms/step - loss: 0.0247 - accuracy: 0.9944 - val_loss: 3.3482 - val_accuracy: 0.5554\n",
      "Epoch 50/100\n",
      "1250/1250 [==============================] - 30s 24ms/step - loss: 0.0247 - accuracy: 0.9944 - val_loss: 3.3607 - val_accuracy: 0.5511\n",
      "Epoch 51/100\n",
      "1250/1250 [==============================] - 30s 24ms/step - loss: 0.0247 - accuracy: 0.9946 - val_loss: 3.3714 - val_accuracy: 0.5540\n",
      "Epoch 52/100\n",
      "1250/1250 [==============================] - 30s 24ms/step - loss: 0.0235 - accuracy: 0.9948 - val_loss: 3.3715 - val_accuracy: 0.5543\n",
      "Epoch 53/100\n",
      "1250/1250 [==============================] - 30s 24ms/step - loss: 0.0233 - accuracy: 0.9947 - val_loss: 3.4230 - val_accuracy: 0.5536\n",
      "Epoch 54/100\n",
      "1250/1250 [==============================] - 31s 24ms/step - loss: 0.0238 - accuracy: 0.9943 - val_loss: 3.3876 - val_accuracy: 0.5540\n",
      "Epoch 55/100\n",
      "1250/1250 [==============================] - 30s 24ms/step - loss: 0.0225 - accuracy: 0.9952 - val_loss: 3.4240 - val_accuracy: 0.5537\n",
      "Epoch 56/100\n",
      "1250/1250 [==============================] - 30s 24ms/step - loss: 0.0224 - accuracy: 0.9949 - val_loss: 3.4409 - val_accuracy: 0.5495\n",
      "Epoch 57/100\n",
      "1250/1250 [==============================] - 30s 24ms/step - loss: 0.0210 - accuracy: 0.9957 - val_loss: 3.4291 - val_accuracy: 0.5526\n",
      "Epoch 58/100\n",
      "1250/1250 [==============================] - 30s 24ms/step - loss: 0.0210 - accuracy: 0.9955 - val_loss: 3.4690 - val_accuracy: 0.5510\n",
      "Epoch 59/100\n",
      "1250/1250 [==============================] - 30s 24ms/step - loss: 0.0207 - accuracy: 0.9954 - val_loss: 3.4708 - val_accuracy: 0.5533\n",
      "Epoch 60/100\n",
      "1250/1250 [==============================] - 30s 24ms/step - loss: 0.0197 - accuracy: 0.9957 - val_loss: 3.4554 - val_accuracy: 0.5559\n",
      "Epoch 61/100\n",
      "1250/1250 [==============================] - 30s 24ms/step - loss: 0.0201 - accuracy: 0.9958 - val_loss: 3.4938 - val_accuracy: 0.5575\n",
      "Epoch 62/100\n",
      "1250/1250 [==============================] - 30s 24ms/step - loss: 0.0192 - accuracy: 0.9961 - val_loss: 3.4929 - val_accuracy: 0.5535\n",
      "Epoch 63/100\n",
      "1250/1250 [==============================] - 30s 24ms/step - loss: 0.0188 - accuracy: 0.9959 - val_loss: 3.4924 - val_accuracy: 0.5559\n",
      "Epoch 64/100\n",
      "1250/1250 [==============================] - 30s 24ms/step - loss: 0.0191 - accuracy: 0.9958 - val_loss: 3.5170 - val_accuracy: 0.5536\n",
      "Epoch 65/100\n",
      "1250/1250 [==============================] - 30s 24ms/step - loss: 0.0177 - accuracy: 0.9965 - val_loss: 3.5365 - val_accuracy: 0.5572\n",
      "Epoch 66/100\n",
      "1250/1250 [==============================] - 31s 25ms/step - loss: 0.0169 - accuracy: 0.9966 - val_loss: 3.5572 - val_accuracy: 0.5529\n",
      "Epoch 67/100\n",
      "1250/1250 [==============================] - 31s 25ms/step - loss: 0.0168 - accuracy: 0.9965 - val_loss: 3.5913 - val_accuracy: 0.5527\n",
      "Epoch 68/100\n",
      "1250/1250 [==============================] - 31s 25ms/step - loss: 0.0182 - accuracy: 0.9961 - val_loss: 3.5719 - val_accuracy: 0.5573\n",
      "Epoch 69/100\n",
      "1250/1250 [==============================] - 31s 25ms/step - loss: 0.0168 - accuracy: 0.9963 - val_loss: 3.5779 - val_accuracy: 0.5527\n",
      "Epoch 70/100\n",
      "1250/1250 [==============================] - 30s 24ms/step - loss: 0.0166 - accuracy: 0.9963 - val_loss: 3.5853 - val_accuracy: 0.5530\n",
      "Epoch 71/100\n",
      "1250/1250 [==============================] - 31s 25ms/step - loss: 0.0163 - accuracy: 0.9966 - val_loss: 3.6014 - val_accuracy: 0.5569\n",
      "Epoch 72/100\n",
      "1250/1250 [==============================] - 32s 26ms/step - loss: 0.0160 - accuracy: 0.9967 - val_loss: 3.6005 - val_accuracy: 0.5549\n",
      "Epoch 73/100\n",
      "1250/1250 [==============================] - 31s 25ms/step - loss: 0.0150 - accuracy: 0.9972 - val_loss: 3.6186 - val_accuracy: 0.5534\n",
      "Epoch 74/100\n",
      "1250/1250 [==============================] - 31s 24ms/step - loss: 0.0150 - accuracy: 0.9970 - val_loss: 3.6195 - val_accuracy: 0.5569\n",
      "Epoch 75/100\n",
      "1250/1250 [==============================] - 30s 24ms/step - loss: 0.0154 - accuracy: 0.9969 - val_loss: 3.5900 - val_accuracy: 0.5569\n",
      "Epoch 76/100\n",
      "1250/1250 [==============================] - 32s 25ms/step - loss: 0.0153 - accuracy: 0.9968 - val_loss: 3.6434 - val_accuracy: 0.5560\n",
      "Epoch 77/100\n",
      "1250/1250 [==============================] - 30s 24ms/step - loss: 0.0151 - accuracy: 0.9970 - val_loss: 3.6374 - val_accuracy: 0.5543\n",
      "Epoch 78/100\n",
      "1250/1250 [==============================] - 32s 26ms/step - loss: 0.0145 - accuracy: 0.9973 - val_loss: 3.6841 - val_accuracy: 0.5520\n",
      "Epoch 79/100\n",
      "1250/1250 [==============================] - 34s 27ms/step - loss: 0.0143 - accuracy: 0.9969 - val_loss: 3.6555 - val_accuracy: 0.5574\n",
      "Epoch 80/100\n",
      "1250/1250 [==============================] - 30s 24ms/step - loss: 0.0132 - accuracy: 0.9972 - val_loss: 3.6896 - val_accuracy: 0.5536\n",
      "Epoch 81/100\n",
      "1250/1250 [==============================] - 30s 24ms/step - loss: 0.0125 - accuracy: 0.9977 - val_loss: 3.6882 - val_accuracy: 0.5548\n",
      "Epoch 82/100\n",
      "1250/1250 [==============================] - 31s 25ms/step - loss: 0.0138 - accuracy: 0.9970 - val_loss: 3.6365 - val_accuracy: 0.5610\n",
      "Epoch 83/100\n",
      "1250/1250 [==============================] - 30s 24ms/step - loss: 0.0132 - accuracy: 0.9974 - val_loss: 3.7047 - val_accuracy: 0.5533\n",
      "Epoch 84/100\n",
      "1250/1250 [==============================] - 30s 24ms/step - loss: 0.0132 - accuracy: 0.9977 - val_loss: 3.7177 - val_accuracy: 0.5549\n",
      "Epoch 85/100\n",
      "1250/1250 [==============================] - 30s 24ms/step - loss: 0.0120 - accuracy: 0.9980 - val_loss: 3.7363 - val_accuracy: 0.5573\n",
      "Epoch 86/100\n",
      "1250/1250 [==============================] - 30s 24ms/step - loss: 0.0129 - accuracy: 0.9978 - val_loss: 3.7584 - val_accuracy: 0.5562\n",
      "Epoch 87/100\n",
      "1250/1250 [==============================] - 30s 24ms/step - loss: 0.0123 - accuracy: 0.9976 - val_loss: 3.7570 - val_accuracy: 0.5533\n",
      "Epoch 88/100\n",
      "1250/1250 [==============================] - 30s 24ms/step - loss: 0.0123 - accuracy: 0.9975 - val_loss: 3.7501 - val_accuracy: 0.5518\n",
      "Epoch 89/100\n",
      "1250/1250 [==============================] - 31s 24ms/step - loss: 0.0116 - accuracy: 0.9980 - val_loss: 3.7873 - val_accuracy: 0.5543\n",
      "Epoch 90/100\n",
      "1250/1250 [==============================] - 31s 24ms/step - loss: 0.0115 - accuracy: 0.9980 - val_loss: 3.7706 - val_accuracy: 0.5542\n",
      "Epoch 91/100\n",
      "1250/1250 [==============================] - 30s 24ms/step - loss: 0.0113 - accuracy: 0.9979 - val_loss: 3.7899 - val_accuracy: 0.5558\n",
      "Epoch 92/100\n",
      "1250/1250 [==============================] - 30s 24ms/step - loss: 0.0117 - accuracy: 0.9979 - val_loss: 3.7931 - val_accuracy: 0.5531\n",
      "Epoch 93/100\n",
      "1250/1250 [==============================] - 31s 24ms/step - loss: 0.0114 - accuracy: 0.9976 - val_loss: 3.7667 - val_accuracy: 0.5545\n",
      "Epoch 94/100\n",
      "1250/1250 [==============================] - 30s 24ms/step - loss: 0.0110 - accuracy: 0.9978 - val_loss: 3.7624 - val_accuracy: 0.5543\n",
      "Epoch 95/100\n",
      "1250/1250 [==============================] - 30s 24ms/step - loss: 0.0110 - accuracy: 0.9979 - val_loss: 3.8052 - val_accuracy: 0.5556\n",
      "Epoch 96/100\n",
      "1250/1250 [==============================] - 30s 24ms/step - loss: 0.0107 - accuracy: 0.9980 - val_loss: 3.8199 - val_accuracy: 0.5547\n",
      "Epoch 97/100\n",
      "1250/1250 [==============================] - 30s 24ms/step - loss: 0.0099 - accuracy: 0.9982 - val_loss: 3.8370 - val_accuracy: 0.5569\n",
      "Epoch 98/100\n",
      "1250/1250 [==============================] - 32s 26ms/step - loss: 0.0092 - accuracy: 0.9985 - val_loss: 3.8914 - val_accuracy: 0.5550\n",
      "Epoch 99/100\n",
      "1250/1250 [==============================] - 33s 26ms/step - loss: 0.0106 - accuracy: 0.9980 - val_loss: 3.8378 - val_accuracy: 0.5547\n",
      "Epoch 100/100\n",
      "1250/1250 [==============================] - 31s 25ms/step - loss: 0.0100 - accuracy: 0.9980 - val_loss: 3.8127 - val_accuracy: 0.5561\n"
     ]
    }
   ],
   "source": [
    "EPOCHS=100\n",
    "batch_size=32\n",
    "steps_per_epoch = train_generator.n//batch_size\n",
    "validation_steps = val_generator.n//batch_size\n",
    "history = model.fit(train_generator,\n",
    "                    steps_per_epoch = len(train_generator),\n",
    "                        batch_size = 32,\n",
    "                        epochs=EPOCHS,\n",
    "                        validation_data = val_generator,\n",
    "                        validation_steps = len(val_generator),\n",
    "                        callbacks = [reduce_lr]\n",
    "                        )"
   ]
  },
  {
   "cell_type": "markdown",
   "metadata": {},
   "source": [
    "## Saving the model"
   ]
  },
  {
   "cell_type": "code",
   "execution_count": 18,
   "metadata": {},
   "outputs": [
    {
     "name": "stderr",
     "output_type": "stream",
     "text": [
      "C:\\Users\\Ananda\\anaconda3\\lib\\site-packages\\keras\\utils\\generic_utils.py:494: CustomMaskWarning: Custom mask layers require a config and must override get_config. When loading, the custom mask layer must be passed to the custom_objects argument.\n",
      "  warnings.warn('Custom mask layers require a config and must override '\n"
     ]
    }
   ],
   "source": [
    "model.save(\"Group73_ResNet14_model.h5\")"
   ]
  },
  {
   "cell_type": "markdown",
   "metadata": {},
   "source": [
    "## Loading the saved model"
   ]
  },
  {
   "cell_type": "code",
   "execution_count": 9,
   "metadata": {},
   "outputs": [],
   "source": [
    "model = keras.models.load_model(\"Group73_ResNet14_model.h5\",compile=True)"
   ]
  },
  {
   "cell_type": "markdown",
   "metadata": {},
   "source": [
    "# Results"
   ]
  },
  {
   "cell_type": "code",
   "execution_count": 10,
   "metadata": {},
   "outputs": [
    {
     "name": "stdout",
     "output_type": "stream",
     "text": [
      "313/313 [==============================] - 6s 8ms/step - loss: 3.8439 - accuracy: 0.5629\n"
     ]
    }
   ],
   "source": [
    "resnet_pred = model.evaluate(test_generator, batch_size = 32)"
   ]
  },
  {
   "cell_type": "code",
   "execution_count": 11,
   "metadata": {},
   "outputs": [
    {
     "name": "stdout",
     "output_type": "stream",
     "text": [
      "Test loss: 3.859851598739624 / Test accuracy: 0.5648999810218811\n"
     ]
    }
   ],
   "source": [
    "score = model.evaluate(X_test, y_test, verbose=0)\n",
    "print(f'Test loss: {score[0]} / Test accuracy: {score[1]}')"
   ]
  },
  {
   "cell_type": "code",
   "execution_count": 22,
   "metadata": {},
   "outputs": [
    {
     "data": {
      "image/png": "[encoded data removed]",
      "text/plain": [
       "<Figure size 432x288 with 1 Axes>"
      ]
     },
     "metadata": {
      "needs_background": "light"
     },
     "output_type": "display_data"
    }
   ],
   "source": [
    "#Plot of Validation accuracy\n",
    "plt.plot(history.history['val_accuracy'])\n",
    "plt.title('Validation accuracy history')\n",
    "plt.ylabel('Accuracy value (%)')\n",
    "plt.xlabel('No. epoch')\n",
    "plt.show()"
   ]
  },
  {
   "cell_type": "code",
   "execution_count": 23,
   "metadata": {},
   "outputs": [
    {
     "data": {
      "image/png": "[encoded data removed]",
      "text/plain": [
       "<Figure size 432x288 with 1 Axes>"
      ]
     },
     "metadata": {
      "needs_background": "light"
     },
     "output_type": "display_data"
    }
   ],
   "source": [
    "# plot of train accuracy\n",
    "plt.plot(history.history['accuracy'])\n",
    "plt.title('Train accuracy history')\n",
    "plt.ylabel('Accuracy value (%)')\n",
    "plt.xlabel('No. epoch')\n",
    "plt.show()"
   ]
  },
  {
   "cell_type": "code",
   "execution_count": 24,
   "metadata": {},
   "outputs": [
    {
     "data": {
      "image/png": "[encoded data removed]",
      "text/plain": [
       "<Figure size 432x288 with 1 Axes>"
      ]
     },
     "metadata": {
      "needs_background": "light"
     },
     "output_type": "display_data"
    }
   ],
   "source": [
    "# plot of validation loss\n",
    "plt.plot(history.history['val_loss'])\n",
    "plt.title('Validation loss history')\n",
    "plt.ylabel('Loss value')\n",
    "plt.xlabel('No. epoch')\n",
    "plt.show()"
   ]
  },
  {
   "cell_type": "code",
   "execution_count": 25,
   "metadata": {},
   "outputs": [
    {
     "data": {
      "image/png": "[encoded data removed]",
      "text/plain": [
       "<Figure size 432x288 with 1 Axes>"
      ]
     },
     "metadata": {
      "needs_background": "light"
     },
     "output_type": "display_data"
    }
   ],
   "source": [
    "# plot of trian loss\n",
    "plt.plot(history.history['loss'])\n",
    "plt.title('Train loss history')\n",
    "plt.ylabel('Loss value')\n",
    "plt.xlabel('No. epoch')\n",
    "plt.show()"
   ]
  },
  {
   "cell_type": "markdown",
   "metadata": {},
   "source": [
    "## Running the trained model on test set"
   ]
  },
  {
   "cell_type": "code",
   "execution_count": 26,
   "metadata": {},
   "outputs": [
    {
     "name": "stdout",
     "output_type": "stream",
     "text": [
      "Test loss: 3.859849214553833 / Test accuracy: 0.5648999810218811\n"
     ]
    }
   ],
   "source": [
    "# getting the test accuracy\n",
    "score = model.evaluate(X_test, y_test, verbose=0)\n",
    "print(f'Test loss: {score[0]} / Test accuracy: {score[1]}')"
   ]
  },
  {
   "cell_type": "code",
   "execution_count": 27,
   "metadata": {},
   "outputs": [
    {
     "data": {
      "text/plain": [
       "Text(0.5, 1.0, \"b'lion'\")"
      ]
     },
     "execution_count": 27,
     "metadata": {},
     "output_type": "execute_result"
    },
    {
     "data": {
      "image/png": "[encoded data removed]",
      "text/plain": [
       "<Figure size 432x288 with 1 Axes>"
      ]
     },
     "metadata": {
      "needs_background": "light"
     },
     "output_type": "display_data"
    }
   ],
   "source": [
    "# printing example of predicted lable and actual image\n",
    "test_index = 15\n",
    "\n",
    "img = X_test[test_index]\n",
    "plt.imshow(img)\n",
    "plt.title(labels[np.argmax(model.predict(img.reshape(1,32,32,3)))])"
   ]
  },
  {
   "cell_type": "code",
   "execution_count": 28,
   "metadata": {},
   "outputs": [],
   "source": [
    "Y_pred = model.predict(X_test)"
   ]
  },
  {
   "cell_type": "code",
   "execution_count": 29,
   "metadata": {},
   "outputs": [
    {
     "name": "stdout",
     "output_type": "stream",
     "text": [
      "              precision    recall  f1-score   support\n",
      "\n",
      "           0       0.80      0.78      0.79       100\n",
      "           1       0.72      0.68      0.70       100\n",
      "           2       0.37      0.40      0.39       100\n",
      "           3       0.36      0.38      0.37       100\n",
      "           4       0.39      0.45      0.42       100\n",
      "           5       0.53      0.58      0.55       100\n",
      "           6       0.63      0.65      0.64       100\n",
      "           7       0.62      0.64      0.63       100\n",
      "           8       0.82      0.73      0.77       100\n",
      "           9       0.67      0.63      0.65       100\n",
      "          10       0.38      0.33      0.35       100\n",
      "          11       0.40      0.39      0.39       100\n",
      "          12       0.57      0.60      0.59       100\n",
      "          13       0.46      0.46      0.46       100\n",
      "          14       0.56      0.47      0.51       100\n",
      "          15       0.53      0.49      0.51       100\n",
      "          16       0.57      0.65      0.60       100\n",
      "          17       0.68      0.67      0.67       100\n",
      "          18       0.41      0.46      0.43       100\n",
      "          19       0.54      0.51      0.52       100\n",
      "          20       0.85      0.74      0.79       100\n",
      "          21       0.76      0.74      0.75       100\n",
      "          22       0.56      0.50      0.53       100\n",
      "          23       0.68      0.69      0.69       100\n",
      "          24       0.77      0.79      0.78       100\n",
      "          25       0.39      0.44      0.42       100\n",
      "          26       0.47      0.42      0.44       100\n",
      "          27       0.41      0.40      0.40       100\n",
      "          28       0.71      0.73      0.72       100\n",
      "          29       0.53      0.59      0.56       100\n",
      "          30       0.44      0.43      0.43       100\n",
      "          31       0.67      0.58      0.62       100\n",
      "          32       0.55      0.46      0.50       100\n",
      "          33       0.50      0.54      0.52       100\n",
      "          34       0.59      0.59      0.59       100\n",
      "          35       0.40      0.33      0.36       100\n",
      "          36       0.68      0.56      0.62       100\n",
      "          37       0.49      0.58      0.53       100\n",
      "          38       0.34      0.44      0.38       100\n",
      "          39       0.79      0.68      0.73       100\n",
      "          40       0.52      0.47      0.49       100\n",
      "          41       0.80      0.70      0.74       100\n",
      "          42       0.51      0.54      0.53       100\n",
      "          43       0.70      0.57      0.63       100\n",
      "          44       0.29      0.32      0.30       100\n",
      "          45       0.44      0.50      0.47       100\n",
      "          46       0.40      0.37      0.38       100\n",
      "          47       0.60      0.64      0.62       100\n",
      "          48       0.83      0.86      0.84       100\n",
      "          49       0.66      0.69      0.68       100\n",
      "          50       0.31      0.33      0.32       100\n",
      "          51       0.65      0.61      0.63       100\n",
      "          52       0.61      0.65      0.63       100\n",
      "          53       0.80      0.77      0.79       100\n",
      "          54       0.63      0.72      0.67       100\n",
      "          55       0.24      0.27      0.25       100\n",
      "          56       0.79      0.77      0.78       100\n",
      "          57       0.56      0.61      0.59       100\n",
      "          58       0.80      0.66      0.72       100\n",
      "          59       0.63      0.59      0.61       100\n",
      "          60       0.80      0.84      0.82       100\n",
      "          61       0.63      0.56      0.59       100\n",
      "          62       0.61      0.59      0.60       100\n",
      "          63       0.60      0.54      0.57       100\n",
      "          64       0.38      0.32      0.35       100\n",
      "          65       0.32      0.36      0.34       100\n",
      "          66       0.54      0.66      0.59       100\n",
      "          67       0.45      0.45      0.45       100\n",
      "          68       0.83      0.76      0.79       100\n",
      "          69       0.69      0.68      0.68       100\n",
      "          70       0.56      0.54      0.55       100\n",
      "          71       0.68      0.65      0.66       100\n",
      "          72       0.27      0.30      0.29       100\n",
      "          73       0.42      0.44      0.43       100\n",
      "          74       0.41      0.46      0.43       100\n",
      "          75       0.79      0.81      0.80       100\n",
      "          76       0.83      0.82      0.82       100\n",
      "          77       0.54      0.48      0.51       100\n",
      "          78       0.39      0.44      0.41       100\n",
      "          79       0.61      0.59      0.60       100\n",
      "          80       0.40      0.37      0.38       100\n",
      "          81       0.47      0.59      0.52       100\n",
      "          82       0.83      0.79      0.81       100\n",
      "          83       0.46      0.51      0.48       100\n",
      "          84       0.52      0.41      0.46       100\n",
      "          85       0.72      0.64      0.68       100\n",
      "          86       0.64      0.58      0.61       100\n",
      "          87       0.56      0.62      0.59       100\n",
      "          88       0.65      0.65      0.65       100\n",
      "          89       0.60      0.65      0.62       100\n",
      "          90       0.59      0.65      0.62       100\n",
      "          91       0.67      0.64      0.65       100\n",
      "          92       0.49      0.44      0.46       100\n",
      "          93       0.35      0.40      0.37       100\n",
      "          94       0.80      0.80      0.80       100\n",
      "          95       0.59      0.63      0.61       100\n",
      "          96       0.57      0.51      0.54       100\n",
      "          97       0.56      0.54      0.55       100\n",
      "          98       0.37      0.40      0.38       100\n",
      "          99       0.64      0.56      0.60       100\n",
      "\n",
      "    accuracy                           0.56     10000\n",
      "   macro avg       0.57      0.56      0.57     10000\n",
      "weighted avg       0.57      0.56      0.57     10000\n",
      "\n",
      "0.5649\n"
     ]
    }
   ],
   "source": [
    "# results\n",
    "pred=np.argmax(Y_pred,axis=1)\n",
    "ground = np.argmax(y_test,axis=1)\n",
    "print(classification_report(ground,pred))\n",
    "print(accuracy_score(ground, pred))"
   ]
  },
  {
   "cell_type": "code",
   "execution_count": 30,
   "metadata": {},
   "outputs": [
    {
     "data": {
      "text/plain": [
       "<AxesSubplot:>"
      ]
     },
     "execution_count": 30,
     "metadata": {},
     "output_type": "execute_result"
    },
    {
     "data": {
      "image/png": "[encoded data removed]",
      "text/plain": [
       "<Figure size 1440x1008 with 2 Axes>"
      ]
     },
     "metadata": {
      "needs_background": "light"
     },
     "output_type": "display_data"
    }
   ],
   "source": [
    "#confusion matrix\n",
    "plt.figure(figsize = (20,14))\n",
    "sn.heatmap(confusion_matrix(ground, pred))"
   ]
  }
 ],
 "metadata": {
  "interpreter": {
   "hash": "72caa8162c7ddb730eb115c92d1f18bd42630ff3f55b670d9915fd6309fff2cc"
  },
  "kernelspec": {
   "display_name": "Python 3.8.8 64-bit ('base': conda)",
   "name": "python3"
  },
  "language_info": {
   "codemirror_mode": {
    "name": "ipython",
    "version": 3
   },
   "file_extension": ".py",
   "mimetype": "text/x-python",
   "name": "python",
   "nbconvert_exporter": "python",
   "pygments_lexer": "ipython3",
   "version": "3.8.8"
  },
  "orig_nbformat": 4
 },
 "nbformat": 4,
 "nbformat_minor": 2
}
